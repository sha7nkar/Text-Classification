{
 "cells": [
  {
   "cell_type": "code",
   "execution_count": 1,
   "id": "expired-annotation",
   "metadata": {},
   "outputs": [],
   "source": [
    "\"\"\"\n",
    "Importing Libraries\n",
    "\"\"\"\n",
    "import pandas as pd\n",
    "import numpy as np\n",
    "import matplotlib.pyplot as plt\n",
    "import seaborn as sns\n",
    "\n",
    "from sklearn.metrics import multilabel_confusion_matrix\n",
    "from sklearn.metrics import accuracy_score\n",
    "from sklearn.metrics import precision_score\n",
    "from sklearn.metrics import recall_score\n",
    "from sklearn.metrics import f1_score\n",
    "from sklearn.metrics import confusion_matrix, ConfusionMatrixDisplay\n",
    "from sklearn.datasets import make_multilabel_classification\n",
    "\n",
    "import warnings\n",
    "warnings.simplefilter(action='ignore', category=FutureWarning)"
   ]
  },
  {
   "cell_type": "code",
   "execution_count": 2,
   "id": "forty-passage",
   "metadata": {},
   "outputs": [],
   "source": [
    "\"\"\"\n",
    "Importing the models\n",
    "\"\"\"\n",
    "from sklearn.linear_model import LogisticRegression\n",
    "from sklearn.ensemble import RandomForestClassifier\n",
    "from sklearn.naive_bayes import MultinomialNB\n",
    "from sklearn.neighbors import KNeighborsClassifier\n",
    "from sklearn.model_selection import cross_val_score"
   ]
  },
  {
   "cell_type": "code",
   "execution_count": 3,
   "id": "european-landscape",
   "metadata": {},
   "outputs": [
    {
     "data": {
      "text/plain": [
       "'/Users/shankar'"
      ]
     },
     "execution_count": 3,
     "metadata": {},
     "output_type": "execute_result"
    }
   ],
   "source": [
    "pwd"
   ]
  },
  {
   "cell_type": "code",
   "execution_count": 4,
   "id": "thick-punishment",
   "metadata": {},
   "outputs": [
    {
     "data": {
      "text/html": [
       "<div>\n",
       "<style scoped>\n",
       "    .dataframe tbody tr th:only-of-type {\n",
       "        vertical-align: middle;\n",
       "    }\n",
       "\n",
       "    .dataframe tbody tr th {\n",
       "        vertical-align: top;\n",
       "    }\n",
       "\n",
       "    .dataframe thead th {\n",
       "        text-align: right;\n",
       "    }\n",
       "</style>\n",
       "<table border=\"1\" class=\"dataframe\">\n",
       "  <thead>\n",
       "    <tr style=\"text-align: right;\">\n",
       "      <th></th>\n",
       "      <th>Text</th>\n",
       "      <th>Category</th>\n",
       "    </tr>\n",
       "  </thead>\n",
       "  <tbody>\n",
       "    <tr>\n",
       "      <th>0</th>\n",
       "      <td>worldcom ex-boss launches defence lawyers defe...</td>\n",
       "      <td>business</td>\n",
       "    </tr>\n",
       "    <tr>\n",
       "      <th>1</th>\n",
       "      <td>german business confidence slides german busin...</td>\n",
       "      <td>business</td>\n",
       "    </tr>\n",
       "    <tr>\n",
       "      <th>2</th>\n",
       "      <td>bbc poll indicates economic gloom citizens in ...</td>\n",
       "      <td>business</td>\n",
       "    </tr>\n",
       "    <tr>\n",
       "      <th>3</th>\n",
       "      <td>lifestyle  governs mobile choice  faster  bett...</td>\n",
       "      <td>tech</td>\n",
       "    </tr>\n",
       "    <tr>\n",
       "      <th>4</th>\n",
       "      <td>enron bosses in $168m payout eighteen former e...</td>\n",
       "      <td>business</td>\n",
       "    </tr>\n",
       "    <tr>\n",
       "      <th>...</th>\n",
       "      <td>...</td>\n",
       "      <td>...</td>\n",
       "    </tr>\n",
       "    <tr>\n",
       "      <th>5440</th>\n",
       "      <td>Spain scooped up its first Winter Olympics med...</td>\n",
       "      <td>sports</td>\n",
       "    </tr>\n",
       "    <tr>\n",
       "      <th>5441</th>\n",
       "      <td>U.S. figure skater Adam Rippon nailed his rout...</td>\n",
       "      <td>sports</td>\n",
       "    </tr>\n",
       "    <tr>\n",
       "      <th>5442</th>\n",
       "      <td>Republicans trotted out the same old meaningle...</td>\n",
       "      <td>comedy</td>\n",
       "    </tr>\n",
       "    <tr>\n",
       "      <th>5443</th>\n",
       "      <td>Jamaica’s women’s bobsled team will have a sle...</td>\n",
       "      <td>sports</td>\n",
       "    </tr>\n",
       "    <tr>\n",
       "      <th>5444</th>\n",
       "      <td>WASHINGTON ― Law enforcement officials in Flor...</td>\n",
       "      <td>politics</td>\n",
       "    </tr>\n",
       "  </tbody>\n",
       "</table>\n",
       "<p>6935 rows × 2 columns</p>\n",
       "</div>"
      ],
      "text/plain": [
       "                                                   Text  Category\n",
       "0     worldcom ex-boss launches defence lawyers defe...  business\n",
       "1     german business confidence slides german busin...  business\n",
       "2     bbc poll indicates economic gloom citizens in ...  business\n",
       "3     lifestyle  governs mobile choice  faster  bett...      tech\n",
       "4     enron bosses in $168m payout eighteen former e...  business\n",
       "...                                                 ...       ...\n",
       "5440  Spain scooped up its first Winter Olympics med...    sports\n",
       "5441  U.S. figure skater Adam Rippon nailed his rout...    sports\n",
       "5442  Republicans trotted out the same old meaningle...    comedy\n",
       "5443  Jamaica’s women’s bobsled team will have a sle...    sports\n",
       "5444  WASHINGTON ― Law enforcement officials in Flor...  politics\n",
       "\n",
       "[6935 rows x 2 columns]"
      ]
     },
     "execution_count": 4,
     "metadata": {},
     "output_type": "execute_result"
    }
   ],
   "source": [
    "\"\"\"\n",
    "Reading the column data from the respective .csv files that contains the Text and respective label.\n",
    "This model works on all kinds of Text data that was labeled properly according to the text. \n",
    "We just need to change the name of the file that was given as an input.\n",
    "\"\"\"\n",
    "df1 = pd.read_csv(\"/Users/shankar/Data/Project/BBC News Train.csv\")  #BBC News Train #Huff Post\n",
    "df2 = pd.read_csv(\"/Users/shankar/Data/Project/Huff Post.csv\")\n",
    "frames=[df1,df2]\n",
    "df= pd.concat(frames)\n",
    "df[\"Category\"] = df[\"Category\"].str.lower()\n",
    "df = df[['Text','Category']]\n",
    "df"
   ]
  },
  {
   "cell_type": "code",
   "execution_count": 5,
   "id": "endangered-commons",
   "metadata": {},
   "outputs": [
    {
     "data": {
      "text/plain": [
       "0       business\n",
       "1       business\n",
       "2       business\n",
       "3           tech\n",
       "4       business\n",
       "          ...   \n",
       "5440      sports\n",
       "5441      sports\n",
       "5442      comedy\n",
       "5443      sports\n",
       "5444    politics\n",
       "Name: Category, Length: 6935, dtype: object"
      ]
     },
     "execution_count": 5,
     "metadata": {},
     "output_type": "execute_result"
    }
   ],
   "source": [
    "\"\"\"\n",
    "Displaying the labels w.r.t the Text and passing it as an input to \n",
    "1. Generate the list to visualize the category count\n",
    "2. Generate the dictionaries to map \n",
    "    a. the label to integer.\n",
    "    b. the predicicted outcome to the corresponding label.\n",
    "\"\"\"\n",
    "df['Category']"
   ]
  },
  {
   "cell_type": "code",
   "execution_count": 6,
   "id": "bridal-unemployment",
   "metadata": {},
   "outputs": [
    {
     "data": {
      "text/plain": [
       "Category\n",
       "black voices      290\n",
       "business          392\n",
       "comedy            305\n",
       "crime             136\n",
       "education          26\n",
       "entertainment    1394\n",
       "impact             55\n",
       "latino voices      13\n",
       "media             174\n",
       "politics         2299\n",
       "queer voices      290\n",
       "religion           39\n",
       "science            28\n",
       "sport             346\n",
       "sports            178\n",
       "tech              301\n",
       "travel             55\n",
       "weird news        133\n",
       "women             140\n",
       "world news        341\n",
       "Name: category_id, dtype: int64"
      ]
     },
     "execution_count": 6,
     "metadata": {},
     "output_type": "execute_result"
    }
   ],
   "source": [
    "\"\"\"\n",
    "Displaying the categories w.r.t their count\n",
    "\"\"\"\n",
    "df['category_id'] = df['Category'].factorize()[0]\n",
    "category_list = df.groupby('Category').category_id.count()\n",
    "category_list"
   ]
  },
  {
   "cell_type": "markdown",
   "id": "embedded-study",
   "metadata": {},
   "source": [
    " "
   ]
  },
  {
   "cell_type": "code",
   "execution_count": 7,
   "id": "indian-syracuse",
   "metadata": {},
   "outputs": [
    {
     "data": {
      "image/png": "[encoded data removed]",
      "text/plain": [
       "<Figure size 2160x360 with 1 Axes>"
      ]
     },
     "metadata": {
      "needs_background": "light"
     },
     "output_type": "display_data"
    }
   ],
   "source": [
    "\"\"\"\n",
    "Visualizing the label count\n",
    "\"\"\"\n",
    "category = df['Category'].value_counts()\n",
    "plt.figure(figsize=(30, 5))\n",
    "sns.barplot(category.index, category.values);"
   ]
  },
  {
   "cell_type": "code",
   "execution_count": 8,
   "id": "lucky-karaoke",
   "metadata": {},
   "outputs": [
    {
     "data": {
      "text/html": [
       "<div>\n",
       "<style scoped>\n",
       "    .dataframe tbody tr th:only-of-type {\n",
       "        vertical-align: middle;\n",
       "    }\n",
       "\n",
       "    .dataframe tbody tr th {\n",
       "        vertical-align: top;\n",
       "    }\n",
       "\n",
       "    .dataframe thead th {\n",
       "        text-align: right;\n",
       "    }\n",
       "</style>\n",
       "<table border=\"1\" class=\"dataframe\">\n",
       "  <thead>\n",
       "    <tr style=\"text-align: right;\">\n",
       "      <th></th>\n",
       "      <th>Text</th>\n",
       "      <th>Category</th>\n",
       "    </tr>\n",
       "  </thead>\n",
       "  <tbody>\n",
       "    <tr>\n",
       "      <th>0</th>\n",
       "      <td>- via Getty Images People help to rescue injur...</td>\n",
       "      <td>world news</td>\n",
       "    </tr>\n",
       "    <tr>\n",
       "      <th>1</th>\n",
       "      <td>. @mirandadevine : Having now met @realDonaldT...</td>\n",
       "      <td>media</td>\n",
       "    </tr>\n",
       "    <tr>\n",
       "      <th>2</th>\n",
       "      <td>. @secupp just now on @HLNTV : \"I for one hope...</td>\n",
       "      <td>media</td>\n",
       "    </tr>\n",
       "    <tr>\n",
       "      <th>3</th>\n",
       "      <td>‚Äú Black Panther ‚Äù has solidified its place...</td>\n",
       "      <td>black voices</td>\n",
       "    </tr>\n",
       "    <tr>\n",
       "      <th>4</th>\n",
       "      <td>‚Äú Black Panther ‚Äù has solidified its place...</td>\n",
       "      <td>black voices</td>\n",
       "    </tr>\n",
       "    <tr>\n",
       "      <th>...</th>\n",
       "      <td>...</td>\n",
       "      <td>...</td>\n",
       "    </tr>\n",
       "    <tr>\n",
       "      <th>5395</th>\n",
       "      <td>Yuri Gripas / Reuters U.S. Deputy Attorney Gen...</td>\n",
       "      <td>crime</td>\n",
       "    </tr>\n",
       "    <tr>\n",
       "      <th>5396</th>\n",
       "      <td>Yuri Gripas / Reuters U.S. Deputy Attorney Gen...</td>\n",
       "      <td>crime</td>\n",
       "    </tr>\n",
       "    <tr>\n",
       "      <th>5397</th>\n",
       "      <td>Yvonne Orji knows what she wants and knows how...</td>\n",
       "      <td>black voices</td>\n",
       "    </tr>\n",
       "    <tr>\n",
       "      <th>5398</th>\n",
       "      <td>Zendaya knows how important it is to use your ...</td>\n",
       "      <td>black voices</td>\n",
       "    </tr>\n",
       "    <tr>\n",
       "      <th>5399</th>\n",
       "      <td>ZURICH (Reuters) - Novartis‚Äô top lawyer Feli...</td>\n",
       "      <td>politics</td>\n",
       "    </tr>\n",
       "  </tbody>\n",
       "</table>\n",
       "<p>5400 rows × 2 columns</p>\n",
       "</div>"
      ],
      "text/plain": [
       "                                                   Text      Category\n",
       "0     - via Getty Images People help to rescue injur...    world news\n",
       "1     . @mirandadevine : Having now met @realDonaldT...         media\n",
       "2     . @secupp just now on @HLNTV : \"I for one hope...         media\n",
       "3     ‚Äú Black Panther ‚Äù has solidified its place...  black voices\n",
       "4     ‚Äú Black Panther ‚Äù has solidified its place...  black voices\n",
       "...                                                 ...           ...\n",
       "5395  Yuri Gripas / Reuters U.S. Deputy Attorney Gen...         crime\n",
       "5396  Yuri Gripas / Reuters U.S. Deputy Attorney Gen...         crime\n",
       "5397  Yvonne Orji knows what she wants and knows how...  black voices\n",
       "5398  Zendaya knows how important it is to use your ...  black voices\n",
       "5399  ZURICH (Reuters) - Novartis‚Äô top lawyer Feli...      politics\n",
       "\n",
       "[5400 rows x 2 columns]"
      ]
     },
     "execution_count": 8,
     "metadata": {},
     "output_type": "execute_result"
    }
   ],
   "source": [
    "df = pd.read_csv(\"/Users/shankar/Data/Project/Balanced_Data.csv\")\n",
    "df = df[['Text','Category']]\n",
    "df"
   ]
  },
  {
   "cell_type": "code",
   "execution_count": 9,
   "id": "special-scheme",
   "metadata": {},
   "outputs": [
    {
     "data": {
      "image/png": "[encoded data removed]",
      "text/plain": [
       "<Figure size 2160x360 with 1 Axes>"
      ]
     },
     "metadata": {
      "needs_background": "light"
     },
     "output_type": "display_data"
    }
   ],
   "source": [
    "\"\"\"\n",
    "Visualizing the label count\n",
    "\"\"\"\n",
    "df['category_id'] = df['Category'].factorize()[0]\n",
    "category = df['Category'].value_counts()\n",
    "plt.figure(figsize=(30, 5))\n",
    "sns.barplot(category.index, category.values);"
   ]
  },
  {
   "cell_type": "markdown",
   "id": "developing-delicious",
   "metadata": {},
   "source": [
    "  "
   ]
  },
  {
   "cell_type": "code",
   "execution_count": 10,
   "id": "destroyed-stationery",
   "metadata": {},
   "outputs": [],
   "source": [
    "\"\"\"\n",
    "Using term frequency and inverse document frequency to generate the features w.r.t the stopwords present in the text.\n",
    "\"\"\"\n",
    "from sklearn.feature_extraction.text import TfidfVectorizer\n",
    "tfidf = TfidfVectorizer(sublinear_tf=True, min_df=5, norm='l2', encoding='latin-1', ngram_range=(1, 2),\n",
    "                        stop_words='english')"
   ]
  },
  {
   "cell_type": "code",
   "execution_count": 11,
   "id": "loved-london",
   "metadata": {},
   "outputs": [
    {
     "data": {
      "text/plain": [
       "array([[0.        , 0.03838305, 0.        , ..., 0.        , 0.        ,\n",
       "        0.        ],\n",
       "       [0.        , 0.        , 0.        , ..., 0.        , 0.        ,\n",
       "        0.        ],\n",
       "       [0.        , 0.        , 0.        , ..., 0.        , 0.        ,\n",
       "        0.        ],\n",
       "       ...,\n",
       "       [0.        , 0.        , 0.        , ..., 0.        , 0.        ,\n",
       "        0.        ],\n",
       "       [0.        , 0.        , 0.        , ..., 0.        , 0.        ,\n",
       "        0.        ],\n",
       "       [0.        , 0.02354213, 0.        , ..., 0.        , 0.        ,\n",
       "        0.        ]])"
      ]
     },
     "execution_count": 11,
     "metadata": {},
     "output_type": "execute_result"
    }
   ],
   "source": [
    "\"\"\"\n",
    "Generating the features\n",
    "\"\"\"\n",
    "features = tfidf.fit_transform(df.Text).toarray()\n",
    "features"
   ]
  },
  {
   "cell_type": "code",
   "execution_count": 12,
   "id": "residential-print",
   "metadata": {},
   "outputs": [
    {
     "data": {
      "text/plain": [
       "0       0\n",
       "1       1\n",
       "2       1\n",
       "3       2\n",
       "4       2\n",
       "       ..\n",
       "5395    4\n",
       "5396    4\n",
       "5397    2\n",
       "5398    2\n",
       "5399    6\n",
       "Name: category_id, Length: 5400, dtype: int64"
      ]
     },
     "execution_count": 12,
     "metadata": {},
     "output_type": "execute_result"
    }
   ],
   "source": [
    "\"\"\"\n",
    "Generating the labels for the respective text\n",
    "\"\"\"\n",
    "labels = df.category_id\n",
    "labels"
   ]
  },
  {
   "cell_type": "markdown",
   "id": "variable-mailing",
   "metadata": {},
   "source": [
    " "
   ]
  },
  {
   "cell_type": "code",
   "execution_count": 13,
   "id": "crude-preparation",
   "metadata": {},
   "outputs": [
    {
     "data": {
      "text/plain": [
       "array(['world news', 'media', 'media', ..., 'black voices',\n",
       "       'black voices', 'politics'], dtype=object)"
      ]
     },
     "execution_count": 13,
     "metadata": {},
     "output_type": "execute_result"
    }
   ],
   "source": [
    "\"\"\"\n",
    "Generating a list of available categories to pass this an input to generate dictionary\n",
    "\"\"\"\n",
    "list = df['Category'].values\n",
    "list"
   ]
  },
  {
   "cell_type": "code",
   "execution_count": 14,
   "id": "burning-healing",
   "metadata": {},
   "outputs": [
    {
     "data": {
      "text/plain": [
       "{'world news': 0,\n",
       " 'media': 1,\n",
       " 'black voices': 2,\n",
       " 'entertainment': 3,\n",
       " 'crime': 4,\n",
       " 'comedy': 5,\n",
       " 'politics': 6,\n",
       " 'women': 7,\n",
       " 'queer voices': 8,\n",
       " 'latino voices': 9,\n",
       " 'religion': 10,\n",
       " 'education': 11,\n",
       " 'science': 12,\n",
       " 'tech': 13,\n",
       " 'business': 14,\n",
       " 'sport': 15,\n",
       " 'travel': 16,\n",
       " 'impact': 17}"
      ]
     },
     "execution_count": 14,
     "metadata": {},
     "output_type": "execute_result"
    }
   ],
   "source": [
    "\"\"\"\n",
    "Populating the 2 dictionaries\n",
    "    a. the label to integer.\n",
    "    b. the predicicted outcome to the corresponding label.\n",
    "\"\"\"\n",
    "category_to_id_dict = {}\n",
    "id_to_category_dict = {}\n",
    "\n",
    "i=0\n",
    "for word in list:\n",
    "      if not word in category_to_id_dict:\n",
    "            category_to_id_dict.update({word:i})\n",
    "            id_to_category_dict.update({i:word})\n",
    "            i=i+1\n",
    "category_to_id_dict"
   ]
  },
  {
   "cell_type": "code",
   "execution_count": 15,
   "id": "wrong-proxy",
   "metadata": {},
   "outputs": [
    {
     "data": {
      "text/plain": [
       "{0: 'world news',\n",
       " 1: 'media',\n",
       " 2: 'black voices',\n",
       " 3: 'entertainment',\n",
       " 4: 'crime',\n",
       " 5: 'comedy',\n",
       " 6: 'politics',\n",
       " 7: 'women',\n",
       " 8: 'queer voices',\n",
       " 9: 'latino voices',\n",
       " 10: 'religion',\n",
       " 11: 'education',\n",
       " 12: 'science',\n",
       " 13: 'tech',\n",
       " 14: 'business',\n",
       " 15: 'sport',\n",
       " 16: 'travel',\n",
       " 17: 'impact'}"
      ]
     },
     "execution_count": 15,
     "metadata": {},
     "output_type": "execute_result"
    }
   ],
   "source": [
    "id_to_category_dict"
   ]
  },
  {
   "cell_type": "markdown",
   "id": "korean-argentina",
   "metadata": {},
   "source": [
    "  "
   ]
  },
  {
   "cell_type": "markdown",
   "id": "linear-laugh",
   "metadata": {},
   "source": [
    " "
   ]
  },
  {
   "cell_type": "code",
   "execution_count": 16,
   "id": "regional-validation",
   "metadata": {},
   "outputs": [],
   "source": [
    "\"\"\"\n",
    "Forming a list of model to pass as an input and check performance of each model w.r.t another\n",
    "\"\"\"\n",
    "models = [\n",
    "    RandomForestClassifier(n_estimators=200, max_depth=3, random_state=0),\n",
    "    KNeighborsClassifier(n_neighbors=3),\n",
    "    MultinomialNB(),\n",
    "    LogisticRegression(random_state=0)\n",
    "]"
   ]
  },
  {
   "cell_type": "code",
   "execution_count": 17,
   "id": "czech-alcohol",
   "metadata": {},
   "outputs": [],
   "source": [
    "\"\"\"\n",
    "Calculating the cross-validation score for each model\n",
    "\"\"\"\n",
    "entries = []\n",
    "\n",
    "for model in models:\n",
    "    model_name = model.__class__.__name__\n",
    "    accuracies = cross_val_score(model, features, labels, scoring='accuracy', cv=4)\n",
    "    for i, accuracy in enumerate(accuracies):\n",
    "        entries.append((model_name, i, accuracy))"
   ]
  },
  {
   "cell_type": "markdown",
   "id": "following-saskatchewan",
   "metadata": {},
   "source": [
    " "
   ]
  },
  {
   "cell_type": "code",
   "execution_count": 18,
   "id": "future-religion",
   "metadata": {
    "scrolled": true
   },
   "outputs": [
    {
     "data": {
      "text/html": [
       "<div>\n",
       "<style scoped>\n",
       "    .dataframe tbody tr th:only-of-type {\n",
       "        vertical-align: middle;\n",
       "    }\n",
       "\n",
       "    .dataframe tbody tr th {\n",
       "        vertical-align: top;\n",
       "    }\n",
       "\n",
       "    .dataframe thead th {\n",
       "        text-align: right;\n",
       "    }\n",
       "</style>\n",
       "<table border=\"1\" class=\"dataframe\">\n",
       "  <thead>\n",
       "    <tr style=\"text-align: right;\">\n",
       "      <th></th>\n",
       "      <th>model_name</th>\n",
       "      <th>Cross-Validation-Set</th>\n",
       "      <th>accuracy</th>\n",
       "    </tr>\n",
       "  </thead>\n",
       "  <tbody>\n",
       "    <tr>\n",
       "      <th>0</th>\n",
       "      <td>RandomForestClassifier</td>\n",
       "      <td>0</td>\n",
       "      <td>0.558519</td>\n",
       "    </tr>\n",
       "    <tr>\n",
       "      <th>1</th>\n",
       "      <td>RandomForestClassifier</td>\n",
       "      <td>1</td>\n",
       "      <td>0.614815</td>\n",
       "    </tr>\n",
       "    <tr>\n",
       "      <th>2</th>\n",
       "      <td>RandomForestClassifier</td>\n",
       "      <td>2</td>\n",
       "      <td>0.600741</td>\n",
       "    </tr>\n",
       "    <tr>\n",
       "      <th>3</th>\n",
       "      <td>RandomForestClassifier</td>\n",
       "      <td>3</td>\n",
       "      <td>0.580741</td>\n",
       "    </tr>\n",
       "    <tr>\n",
       "      <th>4</th>\n",
       "      <td>KNeighborsClassifier</td>\n",
       "      <td>0</td>\n",
       "      <td>0.611852</td>\n",
       "    </tr>\n",
       "    <tr>\n",
       "      <th>5</th>\n",
       "      <td>KNeighborsClassifier</td>\n",
       "      <td>1</td>\n",
       "      <td>0.636296</td>\n",
       "    </tr>\n",
       "    <tr>\n",
       "      <th>6</th>\n",
       "      <td>KNeighborsClassifier</td>\n",
       "      <td>2</td>\n",
       "      <td>0.657778</td>\n",
       "    </tr>\n",
       "    <tr>\n",
       "      <th>7</th>\n",
       "      <td>KNeighborsClassifier</td>\n",
       "      <td>3</td>\n",
       "      <td>0.677778</td>\n",
       "    </tr>\n",
       "    <tr>\n",
       "      <th>8</th>\n",
       "      <td>MultinomialNB</td>\n",
       "      <td>0</td>\n",
       "      <td>0.643704</td>\n",
       "    </tr>\n",
       "    <tr>\n",
       "      <th>9</th>\n",
       "      <td>MultinomialNB</td>\n",
       "      <td>1</td>\n",
       "      <td>0.648148</td>\n",
       "    </tr>\n",
       "    <tr>\n",
       "      <th>10</th>\n",
       "      <td>MultinomialNB</td>\n",
       "      <td>2</td>\n",
       "      <td>0.712593</td>\n",
       "    </tr>\n",
       "    <tr>\n",
       "      <th>11</th>\n",
       "      <td>MultinomialNB</td>\n",
       "      <td>3</td>\n",
       "      <td>0.733333</td>\n",
       "    </tr>\n",
       "    <tr>\n",
       "      <th>12</th>\n",
       "      <td>LogisticRegression</td>\n",
       "      <td>0</td>\n",
       "      <td>0.683704</td>\n",
       "    </tr>\n",
       "    <tr>\n",
       "      <th>13</th>\n",
       "      <td>LogisticRegression</td>\n",
       "      <td>1</td>\n",
       "      <td>0.685926</td>\n",
       "    </tr>\n",
       "    <tr>\n",
       "      <th>14</th>\n",
       "      <td>LogisticRegression</td>\n",
       "      <td>2</td>\n",
       "      <td>0.727407</td>\n",
       "    </tr>\n",
       "    <tr>\n",
       "      <th>15</th>\n",
       "      <td>LogisticRegression</td>\n",
       "      <td>3</td>\n",
       "      <td>0.748889</td>\n",
       "    </tr>\n",
       "  </tbody>\n",
       "</table>\n",
       "</div>"
      ],
      "text/plain": [
       "                model_name  Cross-Validation-Set  accuracy\n",
       "0   RandomForestClassifier                     0  0.558519\n",
       "1   RandomForestClassifier                     1  0.614815\n",
       "2   RandomForestClassifier                     2  0.600741\n",
       "3   RandomForestClassifier                     3  0.580741\n",
       "4     KNeighborsClassifier                     0  0.611852\n",
       "5     KNeighborsClassifier                     1  0.636296\n",
       "6     KNeighborsClassifier                     2  0.657778\n",
       "7     KNeighborsClassifier                     3  0.677778\n",
       "8            MultinomialNB                     0  0.643704\n",
       "9            MultinomialNB                     1  0.648148\n",
       "10           MultinomialNB                     2  0.712593\n",
       "11           MultinomialNB                     3  0.733333\n",
       "12      LogisticRegression                     0  0.683704\n",
       "13      LogisticRegression                     1  0.685926\n",
       "14      LogisticRegression                     2  0.727407\n",
       "15      LogisticRegression                     3  0.748889"
      ]
     },
     "execution_count": 18,
     "metadata": {},
     "output_type": "execute_result"
    }
   ],
   "source": [
    "\"\"\"\n",
    "Populating the entries into a Data Frame\n",
    "\"\"\"\n",
    "entries\n",
    "cv_df = pd.DataFrame(entries, columns=['model_name', 'Cross-Validation-Set', 'accuracy'])\n",
    "cv_df"
   ]
  },
  {
   "cell_type": "code",
   "execution_count": 19,
   "id": "personal-median",
   "metadata": {},
   "outputs": [
    {
     "data": {
      "text/plain": [
       "<AxesSubplot:xlabel='model_name', ylabel='accuracy'>"
      ]
     },
     "execution_count": 19,
     "metadata": {},
     "output_type": "execute_result"
    },
    {
     "data": {
      "image/png": "[encoded data removed]",
      "text/plain": [
       "<Figure size 720x360 with 1 Axes>"
      ]
     },
     "metadata": {
      "needs_background": "light"
     },
     "output_type": "display_data"
    }
   ],
   "source": [
    "\"\"\"\n",
    "Plotting the results of model (vs) cross_validation_accuracy\n",
    "\"\"\"\n",
    "plt.figure(figsize=(10, 5))\n",
    "sns.boxplot('model_name', 'accuracy', data=cv_df)"
   ]
  },
  {
   "cell_type": "markdown",
   "id": "swiss-museum",
   "metadata": {},
   "source": [
    " "
   ]
  },
  {
   "cell_type": "markdown",
   "id": "irish-spanking",
   "metadata": {},
   "source": [
    " "
   ]
  },
  {
   "cell_type": "code",
   "execution_count": 20,
   "id": "union-commander",
   "metadata": {},
   "outputs": [],
   "source": [
    "\"\"\"\n",
    "Modeling the RandomForestClassifier\n",
    "\"\"\"\n",
    "from sklearn.model_selection import train_test_split\n",
    "from sklearn.ensemble import RandomForestClassifier"
   ]
  },
  {
   "cell_type": "code",
   "execution_count": 21,
   "id": "attended-montgomery",
   "metadata": {},
   "outputs": [],
   "source": [
    "\"\"\"\n",
    "Spliting the input data into training and testing data\n",
    "\"\"\"\n",
    "X_train, X_test, y_train, y_test = train_test_split(features, labels, test_size=0.10, random_state=42)"
   ]
  },
  {
   "cell_type": "code",
   "execution_count": 22,
   "id": "rolled-protocol",
   "metadata": {},
   "outputs": [],
   "source": [
    "\"\"\"\n",
    "Modeling\n",
    "\"\"\"\n",
    "model = LogisticRegression(max_iter=1000)"
   ]
  },
  {
   "cell_type": "code",
   "execution_count": 23,
   "id": "altered-blair",
   "metadata": {},
   "outputs": [
    {
     "data": {
      "text/plain": [
       "LogisticRegression(max_iter=1000)"
      ]
     },
     "execution_count": 23,
     "metadata": {},
     "output_type": "execute_result"
    }
   ],
   "source": [
    "\"\"\"\n",
    "Fitting the model\n",
    "\"\"\"\n",
    "model.fit(X_train, y_train)"
   ]
  },
  {
   "cell_type": "code",
   "execution_count": 24,
   "id": "enormous-authorization",
   "metadata": {},
   "outputs": [
    {
     "data": {
      "text/plain": [
       "array([16,  9,  1, 15,  4, 15, 11,  5, 14, 10,  3, 17,  1,  2,  6, 10, 11,\n",
       "       11,  5, 17, 14, 17,  7,  5,  9,  4,  9, 13,  1, 16,  2, 13, 14,  6,\n",
       "       12,  7, 11, 15,  0,  2, 11, 13,  0, 12,  6, 15,  5,  6,  1,  8,  9,\n",
       "       16,  4,  5, 17,  8, 11, 15,  5,  5,  8,  6,  0,  7,  3,  2,  7, 10,\n",
       "       10,  1, 12, 14, 10,  3, 17, 13, 15,  5,  8,  7,  1,  0,  7, 14,  7,\n",
       "       16, 13,  9, 15,  0, 12,  6, 12, 13,  2,  4,  6, 14,  6, 15, 11, 17,\n",
       "       10, 17,  7, 15,  2, 14,  9,  5, 10, 13,  3, 10, 12, 12,  5, 15, 15,\n",
       "       10, 10,  3,  1, 11, 10,  2,  6, 12, 15, 17,  7, 15, 13,  5, 10,  8,\n",
       "       12,  0, 16, 15, 15, 16,  8, 15, 11,  4, 15, 16,  9,  7,  9,  3, 10,\n",
       "       15,  7, 10, 13, 10, 16,  1,  5,  4,  3, 16, 16,  9,  6,  9,  7,  8,\n",
       "        6,  7, 10,  7, 15, 10,  4,  6,  0, 17, 16,  0,  7,  7,  7, 10, 16,\n",
       "        2,  9, 15, 16,  4, 11,  0,  6,  2,  7, 15, 17,  4,  6,  5, 15,  2,\n",
       "        7,  5, 14, 12,  4, 17, 14, 17,  8,  9,  4,  2, 14, 16,  8, 17,  7,\n",
       "       16, 17,  3,  5, 10, 15, 15, 14, 15,  8,  0,  7,  6, 16,  7,  2,  1,\n",
       "       15,  7, 13,  4, 15,  9,  3,  4,  5, 16, 11, 13,  8,  6, 17,  5, 15,\n",
       "       16,  1,  0, 17, 14,  2,  1,  1,  8,  0,  6,  1, 17,  3, 14,  0,  9,\n",
       "       11,  6,  0,  7,  9, 12,  4, 16, 13,  1, 12,  6, 10,  2,  8, 10,  4,\n",
       "       12, 11, 12, 14, 11,  6, 14,  7, 16,  3, 11,  8, 11, 10,  4,  9,  1,\n",
       "        1,  8,  9, 10,  4,  9,  9, 10, 13,  1, 15, 16, 16,  2, 13, 16, 12,\n",
       "       16, 11,  4,  9, 12,  1, 16, 14,  0, 14,  0, 14,  1, 13,  4, 14, 13,\n",
       "       16, 16,  2, 11,  6,  6,  6, 14,  2,  8, 10,  6,  9,  8, 12,  4,  3,\n",
       "       11, 13, 17, 13,  5, 10,  6, 14,  8, 16, 13, 17,  3, 15, 11,  3,  2,\n",
       "        2, 16, 15, 10,  2,  2, 15,  0, 15, 17,  0, 16,  2,  3,  9, 11,  4,\n",
       "        9, 11,  6,  6,  5,  4, 14, 10, 16, 12,  4, 17, 12,  7, 10,  0, 17,\n",
       "       16,  4,  7,  5,  1, 12,  9, 15, 17, 16,  1,  5,  7, 17, 17, 16,  3,\n",
       "       15, 13, 12,  1,  9,  4,  6, 12,  8, 10,  0, 17, 16,  1, 13, 16,  3,\n",
       "        3,  9,  9, 16,  8,  2, 16,  6,  0, 11, 11,  9,  8, 12,  3,  4,  8,\n",
       "        6, 12, 16,  6,  2,  4,  7, 10, 11,  8,  7,  5, 12, 15, 12,  4,  6,\n",
       "        2,  7,  2,  6,  9, 16,  7, 16, 17,  7,  3, 17, 17, 11,  4,  8,  7,\n",
       "        9, 14,  1, 13,  3,  8, 15,  1, 14,  6, 16,  1, 17,  0, 10,  5, 13,\n",
       "        0, 14,  1, 14,  4, 16,  2, 11,  0,  2,  3,  3, 15,  3, 13,  4, 12,\n",
       "       16,  6, 12,  6,  4, 12, 10, 13,  3,  3,  2, 15,  8])"
      ]
     },
     "execution_count": 24,
     "metadata": {},
     "output_type": "execute_result"
    }
   ],
   "source": [
    "\"\"\"\n",
    "predicting the testing data\n",
    "\"\"\"\n",
    "y_pred = model.predict(X_test)\n",
    "y_pred"
   ]
  },
  {
   "cell_type": "code",
   "execution_count": 25,
   "id": "awful-creek",
   "metadata": {},
   "outputs": [
    {
     "data": {
      "text/plain": [
       "0.8907407407407407"
      ]
     },
     "execution_count": 25,
     "metadata": {},
     "output_type": "execute_result"
    }
   ],
   "source": [
    "\"\"\"\n",
    "Evaluating the performance metrics of the model\n",
    "\"\"\"\n",
    "accuracy = accuracy_score(y_test, y_pred)\n",
    "accuracy"
   ]
  },
  {
   "cell_type": "code",
   "execution_count": 26,
   "id": "random-endorsement",
   "metadata": {},
   "outputs": [
    {
     "data": {
      "text/plain": [
       "array([[19,  0,  0,  0,  1,  0,  1,  2,  0,  0,  1,  0,  0,  0,  1,  0,\n",
       "         0,  0],\n",
       "       [ 0, 25,  0,  1,  0,  2,  2,  2,  0,  0,  0,  0,  0,  0,  0,  0,\n",
       "         0,  0],\n",
       "       [ 0,  0, 23,  3,  2,  0,  1,  0,  0,  0,  0,  0,  0,  0,  0,  0,\n",
       "         0,  0],\n",
       "       [ 1,  0,  3, 16,  0,  1,  0,  1,  0,  0,  1,  0,  0,  0,  0,  0,\n",
       "         0,  0],\n",
       "       [ 0,  0,  1,  0, 26,  0,  0,  2,  0,  0,  0,  0,  0,  0,  0,  0,\n",
       "         0,  0],\n",
       "       [ 0,  1,  0,  2,  0, 19,  1,  0,  0,  0,  0,  0,  0,  0,  1,  0,\n",
       "         0,  0],\n",
       "       [ 2,  1,  2,  0,  1,  1, 26,  0,  0,  0,  0,  0,  0,  0,  0,  1,\n",
       "         0,  0],\n",
       "       [ 2,  0,  0,  2,  0,  0,  1, 26,  0,  0,  0,  0,  0,  0,  0,  0,\n",
       "         1,  0],\n",
       "       [ 0,  0,  0,  2,  1,  0,  2,  1, 26,  0,  0,  0,  0,  0,  0,  0,\n",
       "         0,  0],\n",
       "       [ 0,  0,  0,  0,  0,  0,  0,  0,  0, 30,  0,  0,  0,  0,  0,  0,\n",
       "         0,  0],\n",
       "       [ 0,  0,  0,  0,  0,  0,  0,  0,  0,  0, 31,  0,  0,  0,  0,  0,\n",
       "         0,  0],\n",
       "       [ 0,  0,  0,  0,  0,  0,  0,  0,  0,  0,  0, 27,  0,  0,  0,  0,\n",
       "         0,  0],\n",
       "       [ 0,  0,  0,  0,  0,  0,  0,  0,  0,  0,  0,  0, 29,  0,  0,  0,\n",
       "         0,  0],\n",
       "       [ 0,  0,  0,  0,  1,  0,  1,  0,  0,  0,  0,  0,  0, 24,  0,  0,\n",
       "         0,  0],\n",
       "       [ 0,  0,  0,  0,  0,  0,  1,  0,  0,  0,  0,  0,  0,  1, 23,  0,\n",
       "         0,  0],\n",
       "       [ 0,  0,  0,  0,  0,  0,  0,  0,  0,  0,  0,  0,  0,  0,  1, 38,\n",
       "         0,  0],\n",
       "       [ 0,  0,  0,  0,  0,  0,  0,  0,  0,  0,  0,  0,  0,  0,  0,  0,\n",
       "        43,  0],\n",
       "       [ 0,  0,  0,  0,  0,  0,  0,  0,  0,  0,  0,  0,  0,  0,  0,  0,\n",
       "         0, 30]])"
      ]
     },
     "execution_count": 26,
     "metadata": {},
     "output_type": "execute_result"
    }
   ],
   "source": [
    "cm_array = confusion_matrix(y_test, y_pred)\n",
    "cm_array"
   ]
  },
  {
   "cell_type": "code",
   "execution_count": 27,
   "id": "natural-corps",
   "metadata": {},
   "outputs": [
    {
     "data": {
      "text/plain": [
       "<AxesSubplot:>"
      ]
     },
     "execution_count": 27,
     "metadata": {},
     "output_type": "execute_result"
    },
    {
     "data": {
      "image/png": "[encoded data removed]",
      "text/plain": [
       "<Figure size 720x504 with 2 Axes>"
      ]
     },
     "metadata": {
      "needs_background": "light"
     },
     "output_type": "display_data"
    }
   ],
   "source": [
    "df_cm = pd.DataFrame(cm_array, index = range(len(category_to_id_dict)),\n",
    "                  columns = range(len(category_to_id_dict)))\n",
    "plt.figure(figsize = (10,7))\n",
    "sns.heatmap(df_cm, annot=True)"
   ]
  },
  {
   "cell_type": "code",
   "execution_count": 28,
   "id": "acting-dynamics",
   "metadata": {},
   "outputs": [
    {
     "data": {
      "text/plain": [
       "0.8881798190550554"
      ]
     },
     "execution_count": 28,
     "metadata": {},
     "output_type": "execute_result"
    }
   ],
   "source": [
    "precision_metric = precision_score(y_test, y_pred, average = \"macro\")\n",
    "precision_metric"
   ]
  },
  {
   "cell_type": "code",
   "execution_count": 29,
   "id": "hungry-primary",
   "metadata": {},
   "outputs": [
    {
     "data": {
      "text/plain": [
       "0.8847425440434634"
      ]
     },
     "execution_count": 29,
     "metadata": {},
     "output_type": "execute_result"
    }
   ],
   "source": [
    "recall_metric = recall_score(y_test, y_pred, average = \"macro\")\n",
    "recall_metric"
   ]
  },
  {
   "cell_type": "code",
   "execution_count": 30,
   "id": "nuclear-groove",
   "metadata": {},
   "outputs": [
    {
     "data": {
      "text/plain": [
       "0.8851189883288046"
      ]
     },
     "execution_count": 30,
     "metadata": {},
     "output_type": "execute_result"
    }
   ],
   "source": [
    "f1_metric = f1_score(y_test, y_pred, average = \"macro\")\n",
    "f1_metric"
   ]
  },
  {
   "cell_type": "markdown",
   "id": "primary-kinase",
   "metadata": {},
   "source": [
    " "
   ]
  },
  {
   "cell_type": "code",
   "execution_count": 31,
   "id": "reasonable-malawi",
   "metadata": {},
   "outputs": [
    {
     "data": {
      "text/plain": [
       "'An Alabama teenager says he had visions of walking with God after a traumatic brain injury pushed him to the brink of death.\\r\\n\\r\\nTrenton McKinley, a 13-year-old from Mobile, claims he remembers walking through an open field with a shadowy, bearded figure during an apparent near-death experience. The teen said the vision proved to him that God is real.\\r\\n\\r\\n‚ÄúThere is no other explanation but God,‚Äù McKinley told WALA-TV in a May 7 article about his dramatic recovery. ‚ÄúThere‚Äôs no other way that I could have come back.\\r\\n\\r\\nNear Death Experiences (NDEs) like the one McKinley describes are a subject debated among researchers. Some are convinced that NDEs have a scientific explanation. The visions could be caused by a spike in neural activity in the brain as it approaches death, for example.\\r\\n\\r\\nBut many of those who have experienced NDEs aren‚Äôt satisfied with a scientific explanation, saying that the spiritual nature of such moments are too numerous and widespread to discount entirely.\\r\\n\\r\\nPeople who live through NDEs often relate stories about visiting an otherworldly realm, encountering a loving presence, or meeting long-lost loved ones.\\r\\n\\r\\nMcKinley‚Äôs recounting of what happened while he was in an impaired state of consciousness appear to contain some of these key elements.\\r\\n\\r\\nThe teen‚Äôs accident occurred in March, according to USA Today, while McKinley and a friend were playing with a dune buggy. McKinley was riding behind his friend, in a utility trailer pulled by the buggy. The friend suddenly hit the brakes, causing the trailer to flip over and throwing McKinley onto the concrete, head first.\\r\\n\\r\\nAccording to his mother, Jennifer Reindl, the teen was rushed to the hospital with seven skull fractures. She claimed in a March 22 Facebook post that her son flatlined four times, including one instance that lasted 15 minutes.\\r\\n\\r\\nMcKinley said he experienced a vision of heaven. He said he recalled walking through an open field with a shadowy figure.\\r\\n\\r\\n‚ÄúI don‚Äôt remember faces. I saw a shadow and I was walking through a field with the shadow,‚Äù the teen told the Christian Broadcasting Network, an evangelical production company, on May 10.\\r\\n\\r\\nHe told CBN that in the vision, he was holding a baby in one arm. His mother told him it could have been a baby boy she had lost through a miscarriage.\\r\\n\\r\\n‚ÄúMom thinks it could have been my little brother,‚Äù McKinley said.\\r\\n\\r\\nDr. Andrew Newberg, a physician at Jefferson University Hospitals in Philadelphia who studies how the brain functions during various religious and mystical experiences, told HuffPost that what McKinley described is in line with an NDE.\\r\\n\\r\\nNewberg said that an NDE‚Äôs common core elements are a knowledge of one‚Äôs death, a tunnel experience, meeting others, feeling peacefulness, seeing a beautiful realm of light with beautiful nature scenes, coming to a decision (either on their own or through others that they meet) that one must go back, and then returning to life.\\r\\n\\r\\nHe believes NDEs can occur at the time of death, but can also occur in life-threatening situations. Still, he noted that many people who come back from life-threatening scenarios do not report an NDE.\\r\\n\\r\\n‚ÄúThe problem is that the person is unconscious and cannot be spoken to in order to find out what they are experiencing and when,‚Äù Newberg said. ‚ÄúFurther, it has always been difficult to know the exact state of the person. Just because the heart stops does not inherently mean that brain activity ceases. There are most likely many neurons in varying stages of dying, but they might still be functional in these states.‚Äù\\r\\n\\r\\nSerious injuries can also spawn scams concerning NDEs, such as one perpetrated by an Ohio boy who was in a coma after a 2004 traffic accident. He regained consciousness and, in 2010, a book he wrote with his father ‚Äï The Boy Who Came Back From Heaven ‚Äï became a best seller. In 2015, the boy ‚Äï now a young man ‚Äïadmitted he had made up his story of meeting Jesus and Satan.\\r\\n\\r\\nRegardless of the details of McKinley‚Äôs NDE, the teen‚Äôs family has been heartened by his dramatic physical recovery.\\r\\n\\r\\nDoctors reportedly told Reindl that there was little hope her son would ever recover fully. The mother said she signed a document that would have allowed for McKinley‚Äôs organs to be donated upon his death.\\r\\n\\r\\nBut shortly afterward, Reindl said hospital staff noticed that McKinley was able to move his hands and then his feet. Later on, he was able to open his eyes. The teen slowly began to heal ‚Äï recovering his memories and eventually shooting basketballs into a hoop at the hospital. In April, Reindl posted a video on Facebook of her son walking with the help of a nurse.\\r\\n\\r\\nMcKinley still has a long way to go. CBN reports that the child suffers from nerve damage and seizures. He also needs additional surgeries to help fix his fractured skull.\\r\\n\\r\\nIn the meantime, Reindl hopes McKinley‚Äôs story helps change lives.\\r\\n\\r\\n‚ÄúMy hopes are that our story brings hope to any mother out there facing such odds,‚Äù she wrote on Facebook.\\r\\n\\r\\nHuffPost reached out to Children‚Äôs of Alabama hospital for confirmation of Reindl‚Äôs story. The hospital declined to provide details about McKinley‚Äôs injuries and recovery, but confirmed that the teen was treated and released.\\r\\n\\r\\nNewberg said there‚Äôs still much about NDEs that scientists have not figured out.\\r\\n\\r\\n‚ÄúThere are too many aspects of NDEs that are not accounted for by any singular answer,‚Äù he wrote in an email. ‚ÄúHowever, NDEs might provide a unique opportunity to explore whether we have a soul or consciousness that can go beyond the body. If we can truly verify the anomalous experiences, then it could result in a paradigm shift in terms of how we scientifically understand the brain and soul.‚Äù\\r\\n\\r\\nFor his part, McKinley appears convinced that what he experienced in the hospital is proof of God‚Äôs love.\\r\\n\\r\\n‚ÄúJesus is watching you at all times. He‚Äôs with you,‚Äù the teen said on CBN. ‚ÄúBelieve. Never lose faith.‚Äù'"
      ]
     },
     "execution_count": 31,
     "metadata": {},
     "output_type": "execute_result"
    }
   ],
   "source": [
    "\"\"\"\n",
    "Selecting a block of text to predict it's category\n",
    "\"\"\"\n",
    "text = df.at[800,\"Text\"]\n",
    "text"
   ]
  },
  {
   "cell_type": "code",
   "execution_count": 32,
   "id": "normal-blend",
   "metadata": {},
   "outputs": [],
   "source": [
    "\"\"\"\n",
    "Generating the features\n",
    "\"\"\"\n",
    "test_features = tfidf.transform([text])"
   ]
  },
  {
   "cell_type": "code",
   "execution_count": 33,
   "id": "middle-shanghai",
   "metadata": {},
   "outputs": [],
   "source": [
    "\"\"\"\n",
    "Predicting the label\n",
    "\"\"\"\n",
    "prediction = model.predict(test_features)"
   ]
  },
  {
   "cell_type": "code",
   "execution_count": 34,
   "id": "characteristic-wholesale",
   "metadata": {},
   "outputs": [
    {
     "name": "stdout",
     "output_type": "stream",
     "text": [
      "religion\n"
     ]
    }
   ],
   "source": [
    "\"\"\"\n",
    "Printing the label\n",
    "\"\"\"\n",
    "for i in range(len(prediction)):\n",
    "    print(id_to_category_dict[prediction[i]])"
   ]
  },
  {
   "cell_type": "markdown",
   "id": "potential-prague",
   "metadata": {},
   "source": [
    " "
   ]
  },
  {
   "cell_type": "markdown",
   "id": "loved-parish",
   "metadata": {},
   "source": [
    " "
   ]
  },
  {
   "cell_type": "code",
   "execution_count": 35,
   "id": "enclosed-slide",
   "metadata": {},
   "outputs": [],
   "source": [
    "import joblib"
   ]
  },
  {
   "cell_type": "code",
   "execution_count": 36,
   "id": "textile-socket",
   "metadata": {},
   "outputs": [
    {
     "data": {
      "text/plain": [
       "['Classification.joblib']"
      ]
     },
     "execution_count": 36,
     "metadata": {},
     "output_type": "execute_result"
    }
   ],
   "source": [
    "joblib.dump(model,'Classification.joblib')"
   ]
  }
 ],
 "metadata": {
  "kernelspec": {
   "display_name": "Python 3",
   "language": "python",
   "name": "python3"
  },
  "language_info": {
   "codemirror_mode": {
    "name": "ipython",
    "version": 3
   },
   "file_extension": ".py",
   "mimetype": "text/x-python",
   "name": "python",
   "nbconvert_exporter": "python",
   "pygments_lexer": "ipython3",
   "version": "3.8.5"
  }
 },
 "nbformat": 4,
 "nbformat_minor": 5
}
