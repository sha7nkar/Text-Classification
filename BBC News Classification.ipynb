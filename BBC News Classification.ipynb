{
 "cells": [
  {
   "cell_type": "code",
   "execution_count": 1,
   "id": "expired-annotation",
   "metadata": {},
   "outputs": [],
   "source": [
    "\"\"\"\n",
    "Importing Libraries\n",
    "\"\"\"\n",
    "import pandas as pd\n",
    "import numpy as np\n",
    "import matplotlib.pyplot as plt\n",
    "import seaborn as sns\n",
    "\n",
    "from sklearn.metrics import multilabel_confusion_matrix\n",
    "from sklearn.metrics import accuracy_score\n",
    "from sklearn.metrics import precision_score\n",
    "from sklearn.metrics import recall_score\n",
    "from sklearn.metrics import f1_score\n",
    "from sklearn.metrics import confusion_matrix, ConfusionMatrixDisplay\n",
    "from sklearn.datasets import make_multilabel_classification\n",
    "\n",
    "import warnings\n",
    "warnings.simplefilter(action='ignore', category=FutureWarning)"
   ]
  },
  {
   "cell_type": "code",
   "execution_count": 2,
   "id": "forty-passage",
   "metadata": {},
   "outputs": [],
   "source": [
    "\"\"\"\n",
    "Importing the models\n",
    "\"\"\"\n",
    "from sklearn.linear_model import LogisticRegression\n",
    "from sklearn.ensemble import RandomForestClassifier\n",
    "from sklearn.naive_bayes import MultinomialNB\n",
    "from sklearn.neighbors import KNeighborsClassifier\n",
    "from sklearn.model_selection import cross_val_score"
   ]
  },
  {
   "cell_type": "code",
   "execution_count": 3,
   "id": "european-landscape",
   "metadata": {},
   "outputs": [
    {
     "data": {
      "text/plain": [
       "'/Users/shankar'"
      ]
     },
     "execution_count": 3,
     "metadata": {},
     "output_type": "execute_result"
    }
   ],
   "source": [
    "pwd"
   ]
  },
  {
   "cell_type": "code",
   "execution_count": 4,
   "id": "thick-punishment",
   "metadata": {},
   "outputs": [
    {
     "data": {
      "text/html": [
       "<div>\n",
       "<style scoped>\n",
       "    .dataframe tbody tr th:only-of-type {\n",
       "        vertical-align: middle;\n",
       "    }\n",
       "\n",
       "    .dataframe tbody tr th {\n",
       "        vertical-align: top;\n",
       "    }\n",
       "\n",
       "    .dataframe thead th {\n",
       "        text-align: right;\n",
       "    }\n",
       "</style>\n",
       "<table border=\"1\" class=\"dataframe\">\n",
       "  <thead>\n",
       "    <tr style=\"text-align: right;\">\n",
       "      <th></th>\n",
       "      <th>Text</th>\n",
       "      <th>Category</th>\n",
       "    </tr>\n",
       "  </thead>\n",
       "  <tbody>\n",
       "    <tr>\n",
       "      <th>0</th>\n",
       "      <td>worldcom ex-boss launches defence lawyers defe...</td>\n",
       "      <td>business</td>\n",
       "    </tr>\n",
       "    <tr>\n",
       "      <th>1</th>\n",
       "      <td>german business confidence slides german busin...</td>\n",
       "      <td>business</td>\n",
       "    </tr>\n",
       "    <tr>\n",
       "      <th>2</th>\n",
       "      <td>bbc poll indicates economic gloom citizens in ...</td>\n",
       "      <td>business</td>\n",
       "    </tr>\n",
       "    <tr>\n",
       "      <th>3</th>\n",
       "      <td>lifestyle  governs mobile choice  faster  bett...</td>\n",
       "      <td>tech</td>\n",
       "    </tr>\n",
       "    <tr>\n",
       "      <th>4</th>\n",
       "      <td>enron bosses in $168m payout eighteen former e...</td>\n",
       "      <td>business</td>\n",
       "    </tr>\n",
       "    <tr>\n",
       "      <th>...</th>\n",
       "      <td>...</td>\n",
       "      <td>...</td>\n",
       "    </tr>\n",
       "    <tr>\n",
       "      <th>1485</th>\n",
       "      <td>double eviction from big brother model caprice...</td>\n",
       "      <td>entertainment</td>\n",
       "    </tr>\n",
       "    <tr>\n",
       "      <th>1486</th>\n",
       "      <td>dj double act revamp chart show dj duo jk and ...</td>\n",
       "      <td>entertainment</td>\n",
       "    </tr>\n",
       "    <tr>\n",
       "      <th>1487</th>\n",
       "      <td>weak dollar hits reuters revenues at media gro...</td>\n",
       "      <td>business</td>\n",
       "    </tr>\n",
       "    <tr>\n",
       "      <th>1488</th>\n",
       "      <td>apple ipod family expands market apple has exp...</td>\n",
       "      <td>tech</td>\n",
       "    </tr>\n",
       "    <tr>\n",
       "      <th>1489</th>\n",
       "      <td>santy worm makes unwelcome visit thousands of ...</td>\n",
       "      <td>tech</td>\n",
       "    </tr>\n",
       "  </tbody>\n",
       "</table>\n",
       "<p>1490 rows × 2 columns</p>\n",
       "</div>"
      ],
      "text/plain": [
       "                                                   Text       Category\n",
       "0     worldcom ex-boss launches defence lawyers defe...       business\n",
       "1     german business confidence slides german busin...       business\n",
       "2     bbc poll indicates economic gloom citizens in ...       business\n",
       "3     lifestyle  governs mobile choice  faster  bett...           tech\n",
       "4     enron bosses in $168m payout eighteen former e...       business\n",
       "...                                                 ...            ...\n",
       "1485  double eviction from big brother model caprice...  entertainment\n",
       "1486  dj double act revamp chart show dj duo jk and ...  entertainment\n",
       "1487  weak dollar hits reuters revenues at media gro...       business\n",
       "1488  apple ipod family expands market apple has exp...           tech\n",
       "1489  santy worm makes unwelcome visit thousands of ...           tech\n",
       "\n",
       "[1490 rows x 2 columns]"
      ]
     },
     "execution_count": 4,
     "metadata": {},
     "output_type": "execute_result"
    }
   ],
   "source": [
    "\"\"\"\n",
    "Reading the column data from the respective .csv files that contains the Text and respective label.\n",
    "This model works on all kinds of Text data that was labeled properly according to the text. \n",
    "We just need to change the name of the file that was given as an input.\n",
    "\"\"\"\n",
    "df = pd.read_csv(\"/Users/shankar/Data/Project/BBC News Train.csv\")  #BBC News Train #Huff Post\n",
    "df = df[['Text','Category']]\n",
    "df"
   ]
  },
  {
   "cell_type": "code",
   "execution_count": 5,
   "id": "endangered-commons",
   "metadata": {},
   "outputs": [
    {
     "data": {
      "text/plain": [
       "0            business\n",
       "1            business\n",
       "2            business\n",
       "3                tech\n",
       "4            business\n",
       "            ...      \n",
       "1485    entertainment\n",
       "1486    entertainment\n",
       "1487         business\n",
       "1488             tech\n",
       "1489             tech\n",
       "Name: Category, Length: 1490, dtype: object"
      ]
     },
     "execution_count": 5,
     "metadata": {},
     "output_type": "execute_result"
    }
   ],
   "source": [
    "\"\"\"\n",
    "Displaying the labels w.r.t the Text and passing it as an input to \n",
    "1. Generate the list to visualize the category count\n",
    "2. Generate the dictionaries to map \n",
    "    a. the label to integer.\n",
    "    b. the predicicted outcome to the corresponding label.\n",
    "\"\"\"\n",
    "df['Category']"
   ]
  },
  {
   "cell_type": "code",
   "execution_count": 6,
   "id": "bridal-unemployment",
   "metadata": {},
   "outputs": [
    {
     "data": {
      "text/plain": [
       "Category\n",
       "business         336\n",
       "entertainment    273\n",
       "politics         274\n",
       "sport            346\n",
       "tech             261\n",
       "Name: category_id, dtype: int64"
      ]
     },
     "execution_count": 6,
     "metadata": {},
     "output_type": "execute_result"
    }
   ],
   "source": [
    "\"\"\"\n",
    "Displaying the categories w.r.t their count\n",
    "\"\"\"\n",
    "df['category_id'] = df['Category'].factorize()[0]\n",
    "category_list = df.groupby('Category').category_id.count()\n",
    "category_list"
   ]
  },
  {
   "cell_type": "markdown",
   "id": "embedded-study",
   "metadata": {},
   "source": [
    " "
   ]
  },
  {
   "cell_type": "code",
   "execution_count": 7,
   "id": "indian-syracuse",
   "metadata": {},
   "outputs": [
    {
     "data": {
      "image/png": "[encoded data removed]",
      "text/plain": [
       "<Figure size 2160x360 with 1 Axes>"
      ]
     },
     "metadata": {
      "needs_background": "light"
     },
     "output_type": "display_data"
    }
   ],
   "source": [
    "\"\"\"\n",
    "Visualizing the label count\n",
    "\"\"\"\n",
    "category = df['Category'].value_counts()\n",
    "plt.figure(figsize=(30, 5))\n",
    "sns.barplot(category.index, category.values);"
   ]
  },
  {
   "cell_type": "markdown",
   "id": "developing-delicious",
   "metadata": {},
   "source": [
    "  "
   ]
  },
  {
   "cell_type": "code",
   "execution_count": 8,
   "id": "destroyed-stationery",
   "metadata": {},
   "outputs": [],
   "source": [
    "\"\"\"\n",
    "Using term frequency and inverse document frequency to generate the features w.r.t the stopwords present in the text.\n",
    "\"\"\"\n",
    "from sklearn.feature_extraction.text import TfidfVectorizer\n",
    "tfidf = TfidfVectorizer(sublinear_tf=True, min_df=5, norm='l2', encoding='latin-1', ngram_range=(1, 2),\n",
    "                        stop_words='english')"
   ]
  },
  {
   "cell_type": "code",
   "execution_count": 9,
   "id": "loved-london",
   "metadata": {},
   "outputs": [
    {
     "data": {
      "text/plain": [
       "array([[0.        , 0.        , 0.        , ..., 0.        , 0.        ,\n",
       "        0.        ],\n",
       "       [0.        , 0.        , 0.        , ..., 0.        , 0.        ,\n",
       "        0.        ],\n",
       "       [0.03250994, 0.        , 0.        , ..., 0.        , 0.        ,\n",
       "        0.        ],\n",
       "       ...,\n",
       "       [0.        , 0.        , 0.        , ..., 0.        , 0.        ,\n",
       "        0.        ],\n",
       "       [0.        , 0.        , 0.        , ..., 0.        , 0.        ,\n",
       "        0.        ],\n",
       "       [0.03842857, 0.        , 0.        , ..., 0.        , 0.        ,\n",
       "        0.        ]])"
      ]
     },
     "execution_count": 9,
     "metadata": {},
     "output_type": "execute_result"
    }
   ],
   "source": [
    "\"\"\"\n",
    "Generating the features\n",
    "\"\"\"\n",
    "features = tfidf.fit_transform(df.Text).toarray()\n",
    "features"
   ]
  },
  {
   "cell_type": "code",
   "execution_count": 10,
   "id": "residential-print",
   "metadata": {},
   "outputs": [
    {
     "data": {
      "text/plain": [
       "0       0\n",
       "1       0\n",
       "2       0\n",
       "3       1\n",
       "4       0\n",
       "       ..\n",
       "1485    4\n",
       "1486    4\n",
       "1487    0\n",
       "1488    1\n",
       "1489    1\n",
       "Name: category_id, Length: 1490, dtype: int64"
      ]
     },
     "execution_count": 10,
     "metadata": {},
     "output_type": "execute_result"
    }
   ],
   "source": [
    "\"\"\"\n",
    "Generating the labels for the respective text\n",
    "\"\"\"\n",
    "labels = df.category_id\n",
    "labels"
   ]
  },
  {
   "cell_type": "markdown",
   "id": "variable-mailing",
   "metadata": {},
   "source": [
    " "
   ]
  },
  {
   "cell_type": "code",
   "execution_count": 11,
   "id": "crude-preparation",
   "metadata": {},
   "outputs": [
    {
     "data": {
      "text/plain": [
       "array(['business', 'business', 'business', ..., 'business', 'tech',\n",
       "       'tech'], dtype=object)"
      ]
     },
     "execution_count": 11,
     "metadata": {},
     "output_type": "execute_result"
    }
   ],
   "source": [
    "\"\"\"\n",
    "Generating a list of available categories to pass this an input to generate dictionary\n",
    "\"\"\"\n",
    "list = df['Category'].values\n",
    "list"
   ]
  },
  {
   "cell_type": "code",
   "execution_count": 12,
   "id": "burning-healing",
   "metadata": {},
   "outputs": [
    {
     "data": {
      "text/plain": [
       "{'business': 0, 'tech': 1, 'politics': 2, 'sport': 3, 'entertainment': 4}"
      ]
     },
     "execution_count": 12,
     "metadata": {},
     "output_type": "execute_result"
    }
   ],
   "source": [
    "\"\"\"\n",
    "Populating the 2 dictionaries\n",
    "    a. the label to integer.\n",
    "    b. the predicicted outcome to the corresponding label.\n",
    "\"\"\"\n",
    "category_to_id_dict = {}\n",
    "id_to_category_dict = {}\n",
    "\n",
    "i=0\n",
    "for word in list:\n",
    "      if not word in category_to_id_dict:\n",
    "            category_to_id_dict.update({word:i})\n",
    "            id_to_category_dict.update({i:word})\n",
    "            i=i+1\n",
    "category_to_id_dict"
   ]
  },
  {
   "cell_type": "code",
   "execution_count": 13,
   "id": "wrong-proxy",
   "metadata": {},
   "outputs": [
    {
     "data": {
      "text/plain": [
       "{0: 'business', 1: 'tech', 2: 'politics', 3: 'sport', 4: 'entertainment'}"
      ]
     },
     "execution_count": 13,
     "metadata": {},
     "output_type": "execute_result"
    }
   ],
   "source": [
    "id_to_category_dict"
   ]
  },
  {
   "cell_type": "markdown",
   "id": "korean-argentina",
   "metadata": {},
   "source": [
    "  "
   ]
  },
  {
   "cell_type": "markdown",
   "id": "linear-laugh",
   "metadata": {},
   "source": [
    " "
   ]
  },
  {
   "cell_type": "code",
   "execution_count": 14,
   "id": "regional-validation",
   "metadata": {},
   "outputs": [],
   "source": [
    "\"\"\"\n",
    "Forming a list of model to pass as an input and check performance of each model w.r.t another\n",
    "\"\"\"\n",
    "models = [\n",
    "    RandomForestClassifier(n_estimators=200, max_depth=3, random_state=0),\n",
    "    KNeighborsClassifier(n_neighbors=3),\n",
    "    MultinomialNB(),\n",
    "    LogisticRegression(random_state=0)\n",
    "]"
   ]
  },
  {
   "cell_type": "code",
   "execution_count": 15,
   "id": "czech-alcohol",
   "metadata": {},
   "outputs": [],
   "source": [
    "\"\"\"\n",
    "Calculating the cross-validation score for each model\n",
    "\"\"\"\n",
    "entries = []\n",
    "\n",
    "for model in models:\n",
    "    model_name = model.__class__.__name__\n",
    "    accuracies = cross_val_score(model, features, labels, scoring='accuracy', cv=4)\n",
    "    for i, accuracy in enumerate(accuracies):\n",
    "        entries.append((model_name, i, accuracy))"
   ]
  },
  {
   "cell_type": "markdown",
   "id": "following-saskatchewan",
   "metadata": {},
   "source": [
    " "
   ]
  },
  {
   "cell_type": "code",
   "execution_count": 16,
   "id": "future-religion",
   "metadata": {
    "scrolled": true
   },
   "outputs": [
    {
     "data": {
      "text/html": [
       "<div>\n",
       "<style scoped>\n",
       "    .dataframe tbody tr th:only-of-type {\n",
       "        vertical-align: middle;\n",
       "    }\n",
       "\n",
       "    .dataframe tbody tr th {\n",
       "        vertical-align: top;\n",
       "    }\n",
       "\n",
       "    .dataframe thead th {\n",
       "        text-align: right;\n",
       "    }\n",
       "</style>\n",
       "<table border=\"1\" class=\"dataframe\">\n",
       "  <thead>\n",
       "    <tr style=\"text-align: right;\">\n",
       "      <th></th>\n",
       "      <th>model_name</th>\n",
       "      <th>Cross-Validation-Set</th>\n",
       "      <th>accuracy</th>\n",
       "    </tr>\n",
       "  </thead>\n",
       "  <tbody>\n",
       "    <tr>\n",
       "      <th>0</th>\n",
       "      <td>RandomForestClassifier</td>\n",
       "      <td>0</td>\n",
       "      <td>0.817694</td>\n",
       "    </tr>\n",
       "    <tr>\n",
       "      <th>1</th>\n",
       "      <td>RandomForestClassifier</td>\n",
       "      <td>1</td>\n",
       "      <td>0.809651</td>\n",
       "    </tr>\n",
       "    <tr>\n",
       "      <th>2</th>\n",
       "      <td>RandomForestClassifier</td>\n",
       "      <td>2</td>\n",
       "      <td>0.868280</td>\n",
       "    </tr>\n",
       "    <tr>\n",
       "      <th>3</th>\n",
       "      <td>RandomForestClassifier</td>\n",
       "      <td>3</td>\n",
       "      <td>0.868280</td>\n",
       "    </tr>\n",
       "    <tr>\n",
       "      <th>4</th>\n",
       "      <td>KNeighborsClassifier</td>\n",
       "      <td>0</td>\n",
       "      <td>0.941019</td>\n",
       "    </tr>\n",
       "    <tr>\n",
       "      <th>5</th>\n",
       "      <td>KNeighborsClassifier</td>\n",
       "      <td>1</td>\n",
       "      <td>0.943700</td>\n",
       "    </tr>\n",
       "    <tr>\n",
       "      <th>6</th>\n",
       "      <td>KNeighborsClassifier</td>\n",
       "      <td>2</td>\n",
       "      <td>0.962366</td>\n",
       "    </tr>\n",
       "    <tr>\n",
       "      <th>7</th>\n",
       "      <td>KNeighborsClassifier</td>\n",
       "      <td>3</td>\n",
       "      <td>0.962366</td>\n",
       "    </tr>\n",
       "    <tr>\n",
       "      <th>8</th>\n",
       "      <td>MultinomialNB</td>\n",
       "      <td>0</td>\n",
       "      <td>0.965147</td>\n",
       "    </tr>\n",
       "    <tr>\n",
       "      <th>9</th>\n",
       "      <td>MultinomialNB</td>\n",
       "      <td>1</td>\n",
       "      <td>0.959786</td>\n",
       "    </tr>\n",
       "    <tr>\n",
       "      <th>10</th>\n",
       "      <td>MultinomialNB</td>\n",
       "      <td>2</td>\n",
       "      <td>0.986559</td>\n",
       "    </tr>\n",
       "    <tr>\n",
       "      <th>11</th>\n",
       "      <td>MultinomialNB</td>\n",
       "      <td>3</td>\n",
       "      <td>0.970430</td>\n",
       "    </tr>\n",
       "    <tr>\n",
       "      <th>12</th>\n",
       "      <td>LogisticRegression</td>\n",
       "      <td>0</td>\n",
       "      <td>0.973190</td>\n",
       "    </tr>\n",
       "    <tr>\n",
       "      <th>13</th>\n",
       "      <td>LogisticRegression</td>\n",
       "      <td>1</td>\n",
       "      <td>0.959786</td>\n",
       "    </tr>\n",
       "    <tr>\n",
       "      <th>14</th>\n",
       "      <td>LogisticRegression</td>\n",
       "      <td>2</td>\n",
       "      <td>0.983871</td>\n",
       "    </tr>\n",
       "    <tr>\n",
       "      <th>15</th>\n",
       "      <td>LogisticRegression</td>\n",
       "      <td>3</td>\n",
       "      <td>0.973118</td>\n",
       "    </tr>\n",
       "  </tbody>\n",
       "</table>\n",
       "</div>"
      ],
      "text/plain": [
       "                model_name  Cross-Validation-Set  accuracy\n",
       "0   RandomForestClassifier                     0  0.817694\n",
       "1   RandomForestClassifier                     1  0.809651\n",
       "2   RandomForestClassifier                     2  0.868280\n",
       "3   RandomForestClassifier                     3  0.868280\n",
       "4     KNeighborsClassifier                     0  0.941019\n",
       "5     KNeighborsClassifier                     1  0.943700\n",
       "6     KNeighborsClassifier                     2  0.962366\n",
       "7     KNeighborsClassifier                     3  0.962366\n",
       "8            MultinomialNB                     0  0.965147\n",
       "9            MultinomialNB                     1  0.959786\n",
       "10           MultinomialNB                     2  0.986559\n",
       "11           MultinomialNB                     3  0.970430\n",
       "12      LogisticRegression                     0  0.973190\n",
       "13      LogisticRegression                     1  0.959786\n",
       "14      LogisticRegression                     2  0.983871\n",
       "15      LogisticRegression                     3  0.973118"
      ]
     },
     "execution_count": 16,
     "metadata": {},
     "output_type": "execute_result"
    }
   ],
   "source": [
    "\"\"\"\n",
    "Populating the entries into a Data Frame\n",
    "\"\"\"\n",
    "entries\n",
    "cv_df = pd.DataFrame(entries, columns=['model_name', 'Cross-Validation-Set', 'accuracy'])\n",
    "cv_df"
   ]
  },
  {
   "cell_type": "code",
   "execution_count": 17,
   "id": "personal-median",
   "metadata": {},
   "outputs": [
    {
     "data": {
      "text/plain": [
       "<AxesSubplot:xlabel='model_name', ylabel='accuracy'>"
      ]
     },
     "execution_count": 17,
     "metadata": {},
     "output_type": "execute_result"
    },
    {
     "data": {
      "image/png": "[encoded data removed]",
      "text/plain": [
       "<Figure size 720x360 with 1 Axes>"
      ]
     },
     "metadata": {
      "needs_background": "light"
     },
     "output_type": "display_data"
    }
   ],
   "source": [
    "\"\"\"\n",
    "Plotting the results of model (vs) cross_validation_accuracy\n",
    "\"\"\"\n",
    "plt.figure(figsize=(10, 5))\n",
    "sns.boxplot('model_name', 'accuracy', data=cv_df)"
   ]
  },
  {
   "cell_type": "markdown",
   "id": "biological-former",
   "metadata": {},
   "source": [
    " "
   ]
  },
  {
   "cell_type": "markdown",
   "id": "knowing-trail",
   "metadata": {},
   "source": [
    " "
   ]
  },
  {
   "cell_type": "code",
   "execution_count": 18,
   "id": "peaceful-nightlife",
   "metadata": {},
   "outputs": [],
   "source": [
    "\"\"\"\n",
    "Modeling the RandomForestClassifier\n",
    "\"\"\"\n",
    "from sklearn.model_selection import train_test_split\n",
    "from sklearn.ensemble import RandomForestClassifier"
   ]
  },
  {
   "cell_type": "code",
   "execution_count": 19,
   "id": "welsh-south",
   "metadata": {},
   "outputs": [],
   "source": [
    "\"\"\"\n",
    "Spliting the input data into training and testing data\n",
    "\"\"\"\n",
    "X_train, X_test, y_train, y_test = train_test_split(features, labels, test_size=0.10, random_state=42)"
   ]
  },
  {
   "cell_type": "code",
   "execution_count": 20,
   "id": "hindu-design",
   "metadata": {},
   "outputs": [],
   "source": [
    "\"\"\"\n",
    "Modeling\n",
    "\"\"\"\n",
    "model = LogisticRegression()"
   ]
  },
  {
   "cell_type": "code",
   "execution_count": 21,
   "id": "light-launch",
   "metadata": {},
   "outputs": [
    {
     "data": {
      "text/plain": [
       "LogisticRegression()"
      ]
     },
     "execution_count": 21,
     "metadata": {},
     "output_type": "execute_result"
    }
   ],
   "source": [
    "\"\"\"\n",
    "Fitting the model\n",
    "\"\"\"\n",
    "model.fit(X_train, y_train)"
   ]
  },
  {
   "cell_type": "code",
   "execution_count": 22,
   "id": "italic-david",
   "metadata": {},
   "outputs": [
    {
     "data": {
      "text/plain": [
       "array([4, 2, 2, 1, 1, 0, 1, 4, 0, 1, 2, 4, 0, 3, 1, 1, 0, 3, 2, 0, 1, 4,\n",
       "       3, 0, 3, 1, 0, 3, 1, 0, 3, 0, 0, 2, 3, 1, 2, 0, 4, 1, 3, 0, 2, 0,\n",
       "       3, 0, 2, 1, 2, 0, 3, 3, 0, 3, 2, 4, 4, 2, 0, 4, 1, 0, 4, 1, 1, 1,\n",
       "       0, 1, 2, 2, 2, 3, 3, 3, 4, 4, 0, 2, 0, 0, 0, 3, 3, 3, 0, 4, 3, 0,\n",
       "       0, 1, 4, 2, 2, 1, 0, 2, 1, 1, 4, 2, 4, 2, 4, 3, 1, 3, 2, 3, 0, 1,\n",
       "       1, 0, 1, 4, 1, 0, 2, 0, 4, 0, 2, 3, 0, 2, 0, 0, 1, 1, 2, 4, 0, 3,\n",
       "       4, 3, 0, 2, 0, 4, 0, 4, 0, 4, 1, 3, 4, 2, 0, 1, 2])"
      ]
     },
     "execution_count": 22,
     "metadata": {},
     "output_type": "execute_result"
    }
   ],
   "source": [
    "\"\"\"\n",
    "predicting the testing data\n",
    "\"\"\"\n",
    "y_pred = model.predict(X_test)\n",
    "y_pred"
   ]
  },
  {
   "cell_type": "code",
   "execution_count": 23,
   "id": "artistic-flesh",
   "metadata": {},
   "outputs": [
    {
     "data": {
      "text/plain": [
       "0.9932885906040269"
      ]
     },
     "execution_count": 23,
     "metadata": {},
     "output_type": "execute_result"
    }
   ],
   "source": [
    "\"\"\"\n",
    "Evaluating the performance metrics of the model\n",
    "\"\"\"\n",
    "accuracy = accuracy_score(y_test, y_pred)\n",
    "accuracy"
   ]
  },
  {
   "cell_type": "code",
   "execution_count": 24,
   "id": "commercial-resource",
   "metadata": {},
   "outputs": [
    {
     "data": {
      "text/plain": [
       "array([[41,  1,  0,  0,  0],\n",
       "       [ 0, 29,  0,  0,  0],\n",
       "       [ 0,  0, 28,  0,  0],\n",
       "       [ 0,  0,  0, 26,  0],\n",
       "       [ 0,  0,  0,  0, 24]])"
      ]
     },
     "execution_count": 24,
     "metadata": {},
     "output_type": "execute_result"
    }
   ],
   "source": [
    "cm_array = confusion_matrix(y_test, y_pred)\n",
    "cm_array"
   ]
  },
  {
   "cell_type": "code",
   "execution_count": 25,
   "id": "adaptive-juvenile",
   "metadata": {},
   "outputs": [
    {
     "data": {
      "text/plain": [
       "<AxesSubplot:>"
      ]
     },
     "execution_count": 25,
     "metadata": {},
     "output_type": "execute_result"
    },
    {
     "data": {
      "image/png": "[encoded data removed]",
      "text/plain": [
       "<Figure size 720x504 with 2 Axes>"
      ]
     },
     "metadata": {
      "needs_background": "light"
     },
     "output_type": "display_data"
    }
   ],
   "source": [
    "df_cm = pd.DataFrame(cm_array, index = range(len(category_to_id_dict)),\n",
    "                  columns = range(len(category_to_id_dict)))\n",
    "plt.figure(figsize = (10,7))\n",
    "sns.heatmap(df_cm, annot=True)"
   ]
  },
  {
   "cell_type": "code",
   "execution_count": 26,
   "id": "silver-russian",
   "metadata": {},
   "outputs": [
    {
     "data": {
      "text/plain": [
       "0.9933333333333334"
      ]
     },
     "execution_count": 26,
     "metadata": {},
     "output_type": "execute_result"
    }
   ],
   "source": [
    "precision_metric = precision_score(y_test, y_pred, average = \"macro\")\n",
    "precision_metric"
   ]
  },
  {
   "cell_type": "code",
   "execution_count": 27,
   "id": "southwest-sierra",
   "metadata": {},
   "outputs": [
    {
     "data": {
      "text/plain": [
       "0.9952380952380953"
      ]
     },
     "execution_count": 27,
     "metadata": {},
     "output_type": "execute_result"
    }
   ],
   "source": [
    "recall_metric = recall_score(y_test, y_pred, average = \"macro\")\n",
    "recall_metric"
   ]
  },
  {
   "cell_type": "code",
   "execution_count": 28,
   "id": "refined-right",
   "metadata": {},
   "outputs": [
    {
     "data": {
      "text/plain": [
       "0.9942005309373085"
      ]
     },
     "execution_count": 28,
     "metadata": {},
     "output_type": "execute_result"
    }
   ],
   "source": [
    "f1_metric = f1_score(y_test, y_pred, average = \"macro\")\n",
    "f1_metric"
   ]
  },
  {
   "cell_type": "markdown",
   "id": "lonely-survival",
   "metadata": {},
   "source": [
    " "
   ]
  },
  {
   "cell_type": "code",
   "execution_count": 29,
   "id": "supported-marking",
   "metadata": {},
   "outputs": [
    {
     "data": {
      "text/plain": [
       "'double win for sea inside spanish movie the sea inside has been named best picture and star javier bardem best actor at the bangkok international film festival.  based on the true story of a paralysed man s battle to end his life  the sea inside was best foreign language film at the 2005 golden globe awards. annette bening and ana geislerova shared the best actress award at the bangkok festival. this year s event was scaled down following the asian tsunami disaster.  falling down and the phantom of the opera director joel schumacher won a lifetime achievement award while hong kong director wong kar-wai was honoured for promoting asian cinema.  it s a great honour  i want to share this honour with my thai colleagues   wong said. french writer christophe barratie and korean writer park chan-chook shared the best screenplay award for les choristes and old boy respectively. now in its third year  the bangkok international film festival is donating profits from ticket sales to the tsunami relief fund.'"
      ]
     },
     "execution_count": 29,
     "metadata": {},
     "output_type": "execute_result"
    }
   ],
   "source": [
    "\"\"\"\n",
    "Selecting a block of text to predict it's category\n",
    "\"\"\"\n",
    "text = df.at[800,\"Text\"]\n",
    "text"
   ]
  },
  {
   "cell_type": "code",
   "execution_count": 30,
   "id": "impossible-kenya",
   "metadata": {},
   "outputs": [],
   "source": [
    "\"\"\"\n",
    "Generating the features\n",
    "\"\"\"\n",
    "test_features = tfidf.transform([text])"
   ]
  },
  {
   "cell_type": "code",
   "execution_count": 31,
   "id": "mobile-drawing",
   "metadata": {},
   "outputs": [],
   "source": [
    "\"\"\"\n",
    "Predicting the label\n",
    "\"\"\"\n",
    "prediction = model.predict(test_features)"
   ]
  },
  {
   "cell_type": "code",
   "execution_count": 32,
   "id": "settled-block",
   "metadata": {},
   "outputs": [
    {
     "name": "stdout",
     "output_type": "stream",
     "text": [
      "entertainment\n"
     ]
    }
   ],
   "source": [
    "\"\"\"\n",
    "Printing the label\n",
    "\"\"\"\n",
    "for i in range(len(prediction)):\n",
    "    print(id_to_category_dict[prediction[i]])"
   ]
  },
  {
   "cell_type": "markdown",
   "id": "medium-edition",
   "metadata": {},
   "source": [
    " "
   ]
  },
  {
   "cell_type": "markdown",
   "id": "portuguese-speed",
   "metadata": {},
   "source": [
    " "
   ]
  },
  {
   "cell_type": "code",
   "execution_count": 33,
   "id": "enclosed-slide",
   "metadata": {},
   "outputs": [],
   "source": [
    "import joblib"
   ]
  },
  {
   "cell_type": "code",
   "execution_count": 34,
   "id": "textile-socket",
   "metadata": {},
   "outputs": [
    {
     "data": {
      "text/plain": [
       "['Classification_joblib']"
      ]
     },
     "execution_count": 34,
     "metadata": {},
     "output_type": "execute_result"
    }
   ],
   "source": [
    "joblib.dump(model,'Classification_joblib')"
   ]
  }
 ],
 "metadata": {
  "kernelspec": {
   "display_name": "Python 3",
   "language": "python",
   "name": "python3"
  },
  "language_info": {
   "codemirror_mode": {
    "name": "ipython",
    "version": 3
   },
   "file_extension": ".py",
   "mimetype": "text/x-python",
   "name": "python",
   "nbconvert_exporter": "python",
   "pygments_lexer": "ipython3",
   "version": "3.8.5"
  }
 },
 "nbformat": 4,
 "nbformat_minor": 5
}
